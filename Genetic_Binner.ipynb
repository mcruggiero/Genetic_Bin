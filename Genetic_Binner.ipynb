{
 "cells": [
  {
   "cell_type": "markdown",
   "id": "e90545cc",
   "metadata": {},
   "source": [
    "Michael Ruggiero <br>\n",
    "michael@mcruggiero.com <br>\n",
    "2021.05.07 <br>"
   ]
  },
  {
   "cell_type": "markdown",
   "id": "c52b6246",
   "metadata": {
    "toc": true
   },
   "source": [
    "<h1>Table of Contents<span class=\"tocSkip\"></span></h1>\n",
    "<div class=\"toc\"><ul class=\"toc-item\"><li><span><a href=\"#Summary-of-Problem\" data-toc-modified-id=\"Summary-of-Problem-1\">Summary of Problem</a></span></li><li><span><a href=\"#Libraries-Used\" data-toc-modified-id=\"Libraries-Used-2\">Libraries Used</a></span></li><li><span><a href=\"#Data-Generator\" data-toc-modified-id=\"Data-Generator-3\">Data Generator</a></span></li><li><span><a href=\"#Generate-CSVs-with-shipping-rules\" data-toc-modified-id=\"Generate-CSVs-with-shipping-rules-4\">Generate CSVs with shipping rules</a></span></li><li><span><a href=\"#Genetic-Algorithm\" data-toc-modified-id=\"Genetic-Algorithm-5\">Genetic Algorithm</a></span></li></ul></div>"
   ]
  },
  {
   "cell_type": "markdown",
   "id": "d1c14de5",
   "metadata": {},
   "source": [
    "## Summary of Problem"
   ]
  },
  {
   "cell_type": "markdown",
   "id": "f03f3f51",
   "metadata": {},
   "source": [
    "This problem was sketched out for me by Raghu. The following code is not the ideal solution. Solutions to the 3d bin packing problem exist on github, but I thought using a genetic algorithm would allow me to showcase more data-science applications."
   ]
  },
  {
   "cell_type": "markdown",
   "id": "f1d8b6db",
   "metadata": {},
   "source": [
    "## Libraries Used"
   ]
  },
  {
   "cell_type": "code",
   "execution_count": 23,
   "id": "d03c63a0",
   "metadata": {
    "ExecuteTime": {
     "end_time": "2021-05-07T12:54:11.842959Z",
     "start_time": "2021-05-07T12:54:11.840479Z"
    }
   },
   "outputs": [],
   "source": [
    "from string import ascii_letters\n",
    "\n",
    "import numpy as np\n",
    "from numpy.random import randint, choice\n",
    "\n",
    "import pandas as pd\n",
    "import csv \n",
    "\n",
    "from matplotlib import pyplot as plt"
   ]
  },
  {
   "cell_type": "markdown",
   "id": "8dc05bb7",
   "metadata": {},
   "source": [
    "## Data Generator"
   ]
  },
  {
   "cell_type": "markdown",
   "id": "696bde63",
   "metadata": {},
   "source": [
    "These are our classes to create our problem space. CSVs can be imported to test\n",
    "particular problems"
   ]
  },
  {
   "cell_type": "code",
   "execution_count": 130,
   "id": "b07f1541",
   "metadata": {
    "ExecuteTime": {
     "end_time": "2021-05-07T14:35:29.862925Z",
     "start_time": "2021-05-07T14:35:29.833401Z"
    }
   },
   "outputs": [],
   "source": [
    "class OrderGenerator:\n",
    "    \"\"\"\n",
    "    The purchase order generator class, creates a .csv that can be imported \n",
    "    into box solver\n",
    "    \"\"\"\n",
    "    def __init__(self, \n",
    "                 max_items: int = 50,\n",
    "                 min_items: int = 10,\n",
    "                 max_dim: int = 60,\n",
    "                 min_dim: int = 5,\n",
    "                 max_weight: int = 1500,\n",
    "                 min_weight: int = 50) -> None:\n",
    "        \"\"\"\n",
    "        Order generator constructor\n",
    "        :param max_items:   integer, max number of items in purchase order\n",
    "        :param min_items:   integer, min number of items in purchase order\n",
    "        :param max_dim:     integer, max number of centimeter dimension\n",
    "        :param min_dim:     integer, min number of centimeter dimension\n",
    "        :param max_weight:  integer, max number of grams for each object\n",
    "        :param min_weight:  integer, min number of grams for each object\n",
    "        \"\"\"\n",
    "        # First set number of items\n",
    "        self.items = randint(min_items, max_items)\n",
    "        self.max_dim = max_dim\n",
    "        self.min_dim = min_dim\n",
    "        self.max_weight = max_weight\n",
    "        self.min_weight = min_weight\n",
    "        \n",
    "        # Next create a dictionary with random name and dimensions\n",
    "        self.purchase_order = {}\n",
    "        for i in range(self.items):\n",
    "            self.purchase_order[i] = entry = {}\n",
    "            entry[\"name\"] = \"\".join(choice(list(ascii_letters), size = 12))\n",
    "            entry[\"x_dim\"] = randint(self.min_dim, self.max_dim)\n",
    "            entry[\"y_dim\"] = randint(self.min_dim, self.max_dim)\n",
    "            entry[\"z_dim\"] = randint(self.min_dim, self.max_dim)\n",
    "            entry[\"weight\"] = randint(self.min_weight, self.max_weight)\n",
    "            \n",
    "    def make_csv(self) -> None:\n",
    "        \"\"\"\n",
    "        Creates csv from PO.\n",
    "        \"\"\"\n",
    "        # Going through pandas eats a little bit of time, but more readable\n",
    "        self.df = pd.DataFrame.from_dict(self.purchase_order).T\n",
    "        self.df.to_csv(\"purchase_order.csv\")\n",
    "        \n",
    "class ShippingContainers:\n",
    "    \"\"\"\n",
    "    The shipping container rule class, creates .csv that has all of the packing\n",
    "    rules\n",
    "    \"\"\"\n",
    "    def __init__(self,\n",
    "                 max_types: int = 10,\n",
    "                 min_types: int = 4,\n",
    "                 max_dim: int = 300,\n",
    "                 min_dim: int = 50,\n",
    "                 max_weight: int = 100_000,\n",
    "                 weight_range: float = .75,\n",
    "                 max_cost: int = 50,\n",
    "                 min_cost: int = 5) -> None:\n",
    "        \"\"\"\n",
    "        Shipping rules generator\n",
    "        :param max_types:    integer, max number of box classes\n",
    "        :param min_types:    integer, min number of box classes\n",
    "        :param max_dim:      integer, max number of centimeter dimension\n",
    "        :param min_dim:      integer, min number of centimeter dimension\n",
    "        :param max_weight:   integer, max weight for boxes in grams\n",
    "        :param weight_range: float, range to make for smaller boxes\n",
    "        :param max_cost:     interger, max cost to ship box\n",
    "        \"\"\"\n",
    "        self.types = randint(min_types, max_types)\n",
    "        self.min_dim = min_dim\n",
    "        self.costs = np.linspace(min_cost, max_cost, self.types, dtype = int)\n",
    "        \n",
    "        # We will apply linspace scaling between types.\n",
    "        self.max_x_dim = randint(max_dim/2, max_dim)\n",
    "        self.max_y_dim = randint(max_dim/2, max_dim)\n",
    "        self.max_z_dim = randint(max_dim/2, max_dim)\n",
    "        \n",
    "        # Dimensions list this syntax is not perfect, repay debt later\n",
    "        self.x_dims = np.linspace(min_dim, self.max_x_dim, self.types, dtype = int)\n",
    "        self.y_dims = np.linspace(min_dim, self.max_y_dim, self.types, dtype = int)\n",
    "        self.z_dims = np.linspace(min_dim, self.max_z_dim, self.types, dtype = int)\n",
    "        \n",
    "        # Not a perfect solution for weight range, but will do for randomization\n",
    "        self.weights = np.linspace(max_weight * weight_range, \n",
    "                                   max_weight, \n",
    "                                   self.types,\n",
    "                                   dtype = int)\n",
    "\n",
    "        # Next create dictionary with scaling\n",
    "        self.shipping_types = {}\n",
    "        for i in range(self.types):\n",
    "            self.shipping_types[i] = entry = {}\n",
    "            entry[\"type\"]  = i\n",
    "            entry[\"x_dim\"] = self.x_dims[i]\n",
    "            entry[\"y_dim\"] = self.y_dims[i]\n",
    "            entry[\"z_dim\"] = self.z_dims[i]\n",
    "            entry[\"volume\"] = self.x_dims[i] * self.y_dims[i] * self.z_dims[i]\n",
    "            entry[\"max_weight\"] = self.weights[i]\n",
    "            entry[\"cost\"] = self.costs[i]\n",
    "            \n",
    "    def make_csv(self) -> None:\n",
    "        \"\"\"\n",
    "        Creates csv from shipping types.\n",
    "        \"\"\"\n",
    "        self.df = pd.DataFrame.from_dict(self.shipping_types).T\n",
    "        self.df.to_csv(\"shipping_types.csv\")"
   ]
  },
  {
   "cell_type": "markdown",
   "id": "c6586487",
   "metadata": {},
   "source": [
    "## Generate CSVs with shipping rules"
   ]
  },
  {
   "cell_type": "code",
   "execution_count": 131,
   "id": "b06733ee",
   "metadata": {
    "ExecuteTime": {
     "end_time": "2021-05-07T14:35:31.492288Z",
     "start_time": "2021-05-07T14:35:31.460334Z"
    }
   },
   "outputs": [],
   "source": [
    "OrderGenerator().make_csv()\n",
    "ShippingContainers().make_csv()"
   ]
  },
  {
   "cell_type": "code",
   "execution_count": 132,
   "id": "c53a73b9",
   "metadata": {
    "ExecuteTime": {
     "end_time": "2021-05-07T14:35:32.807788Z",
     "start_time": "2021-05-07T14:35:32.797778Z"
    }
   },
   "outputs": [
    {
     "data": {
      "text/html": [
       "<div>\n",
       "<style scoped>\n",
       "    .dataframe tbody tr th:only-of-type {\n",
       "        vertical-align: middle;\n",
       "    }\n",
       "\n",
       "    .dataframe tbody tr th {\n",
       "        vertical-align: top;\n",
       "    }\n",
       "\n",
       "    .dataframe thead th {\n",
       "        text-align: right;\n",
       "    }\n",
       "</style>\n",
       "<table border=\"1\" class=\"dataframe\">\n",
       "  <thead>\n",
       "    <tr style=\"text-align: right;\">\n",
       "      <th></th>\n",
       "      <th>type</th>\n",
       "      <th>x_dim</th>\n",
       "      <th>y_dim</th>\n",
       "      <th>z_dim</th>\n",
       "      <th>volume</th>\n",
       "      <th>max_weight</th>\n",
       "      <th>cost</th>\n",
       "    </tr>\n",
       "  </thead>\n",
       "  <tbody>\n",
       "    <tr>\n",
       "      <th>0</th>\n",
       "      <td>0</td>\n",
       "      <td>50</td>\n",
       "      <td>50</td>\n",
       "      <td>50</td>\n",
       "      <td>125000</td>\n",
       "      <td>75000</td>\n",
       "      <td>5</td>\n",
       "    </tr>\n",
       "    <tr>\n",
       "      <th>1</th>\n",
       "      <td>1</td>\n",
       "      <td>92</td>\n",
       "      <td>89</td>\n",
       "      <td>100</td>\n",
       "      <td>818800</td>\n",
       "      <td>81250</td>\n",
       "      <td>16</td>\n",
       "    </tr>\n",
       "    <tr>\n",
       "      <th>2</th>\n",
       "      <td>2</td>\n",
       "      <td>134</td>\n",
       "      <td>128</td>\n",
       "      <td>150</td>\n",
       "      <td>2572800</td>\n",
       "      <td>87500</td>\n",
       "      <td>27</td>\n",
       "    </tr>\n",
       "    <tr>\n",
       "      <th>3</th>\n",
       "      <td>3</td>\n",
       "      <td>176</td>\n",
       "      <td>167</td>\n",
       "      <td>200</td>\n",
       "      <td>5878400</td>\n",
       "      <td>93750</td>\n",
       "      <td>38</td>\n",
       "    </tr>\n",
       "    <tr>\n",
       "      <th>4</th>\n",
       "      <td>4</td>\n",
       "      <td>219</td>\n",
       "      <td>206</td>\n",
       "      <td>251</td>\n",
       "      <td>11323614</td>\n",
       "      <td>100000</td>\n",
       "      <td>50</td>\n",
       "    </tr>\n",
       "  </tbody>\n",
       "</table>\n",
       "</div>"
      ],
      "text/plain": [
       "   type  x_dim  y_dim  z_dim    volume  max_weight  cost\n",
       "0     0     50     50     50    125000       75000     5\n",
       "1     1     92     89    100    818800       81250    16\n",
       "2     2    134    128    150   2572800       87500    27\n",
       "3     3    176    167    200   5878400       93750    38\n",
       "4     4    219    206    251  11323614      100000    50"
      ]
     },
     "execution_count": 132,
     "metadata": {},
     "output_type": "execute_result"
    }
   ],
   "source": [
    "shipping = pd.read_csv(\"shipping_types.csv\", index_col = 0)\n",
    "shipping.head()"
   ]
  },
  {
   "cell_type": "code",
   "execution_count": 126,
   "id": "611f1af7",
   "metadata": {
    "ExecuteTime": {
     "end_time": "2021-05-07T14:28:10.994255Z",
     "start_time": "2021-05-07T14:28:10.972526Z"
    }
   },
   "outputs": [
    {
     "data": {
      "text/html": [
       "<div>\n",
       "<style scoped>\n",
       "    .dataframe tbody tr th:only-of-type {\n",
       "        vertical-align: middle;\n",
       "    }\n",
       "\n",
       "    .dataframe tbody tr th {\n",
       "        vertical-align: top;\n",
       "    }\n",
       "\n",
       "    .dataframe thead th {\n",
       "        text-align: right;\n",
       "    }\n",
       "</style>\n",
       "<table border=\"1\" class=\"dataframe\">\n",
       "  <thead>\n",
       "    <tr style=\"text-align: right;\">\n",
       "      <th></th>\n",
       "      <th>name</th>\n",
       "      <th>x_dim</th>\n",
       "      <th>y_dim</th>\n",
       "      <th>z_dim</th>\n",
       "      <th>weight</th>\n",
       "    </tr>\n",
       "  </thead>\n",
       "  <tbody>\n",
       "    <tr>\n",
       "      <th>0</th>\n",
       "      <td>rNOCpTiLgtAX</td>\n",
       "      <td>7</td>\n",
       "      <td>47</td>\n",
       "      <td>49</td>\n",
       "      <td>218</td>\n",
       "    </tr>\n",
       "    <tr>\n",
       "      <th>1</th>\n",
       "      <td>tKEtSTVEGfNU</td>\n",
       "      <td>38</td>\n",
       "      <td>6</td>\n",
       "      <td>29</td>\n",
       "      <td>649</td>\n",
       "    </tr>\n",
       "    <tr>\n",
       "      <th>2</th>\n",
       "      <td>gChIxeGSorQP</td>\n",
       "      <td>22</td>\n",
       "      <td>39</td>\n",
       "      <td>52</td>\n",
       "      <td>164</td>\n",
       "    </tr>\n",
       "    <tr>\n",
       "      <th>3</th>\n",
       "      <td>lwJDjIpiMXAt</td>\n",
       "      <td>10</td>\n",
       "      <td>6</td>\n",
       "      <td>21</td>\n",
       "      <td>115</td>\n",
       "    </tr>\n",
       "    <tr>\n",
       "      <th>4</th>\n",
       "      <td>ScYZMfCepbVk</td>\n",
       "      <td>44</td>\n",
       "      <td>29</td>\n",
       "      <td>45</td>\n",
       "      <td>685</td>\n",
       "    </tr>\n",
       "  </tbody>\n",
       "</table>\n",
       "</div>"
      ],
      "text/plain": [
       "           name  x_dim  y_dim  z_dim  weight\n",
       "0  rNOCpTiLgtAX      7     47     49     218\n",
       "1  tKEtSTVEGfNU     38      6     29     649\n",
       "2  gChIxeGSorQP     22     39     52     164\n",
       "3  lwJDjIpiMXAt     10      6     21     115\n",
       "4  ScYZMfCepbVk     44     29     45     685"
      ]
     },
     "execution_count": 126,
     "metadata": {},
     "output_type": "execute_result"
    }
   ],
   "source": [
    "purchase = pd.read_csv(\"purchase_order.csv\", index_col = 0)\n",
    "purchase.head()"
   ]
  },
  {
   "cell_type": "markdown",
   "id": "ef41ca53",
   "metadata": {},
   "source": [
    "## Genetic Algorithm"
   ]
  },
  {
   "cell_type": "markdown",
   "id": "ef973bb7",
   "metadata": {},
   "source": [
    "Under the current definition of our problem, the exact solution will be non-linear NP, scaling with the number of items in the purchase order. To find a reasonably timed solution we will use a genetic algorithm design. There are other options for our algorithm, but I think this design will allow me to experiment with various machine learning techniques and showcas"
   ]
  },
  {
   "cell_type": "code",
   "execution_count": 2,
   "id": "5095bc38",
   "metadata": {
    "ExecuteTime": {
     "end_time": "2021-05-07T15:01:26.136756Z",
     "start_time": "2021-05-07T15:01:26.121793Z"
    }
   },
   "outputs": [],
   "source": [
    "class GeneticPacking:\n",
    "    \"\"\"\n",
    "    A genetic packing algorithm to solve the 3D bin packing problem\n",
    "    \"\"\"\n",
    "    def __init__(self,\n",
    "                 num_generations: int = 1000,\n",
    "                 population: int = 100,\n",
    "                 csv_location: float =\"\") -> None:\n",
    "        \"\"\"\n",
    "        \"\"\"\n",
    "        pass\n",
    "    \n",
    "    def random_generator(self) -> None:\n",
    "        \"\"\"\n",
    "        \"\"\"\n",
    "        pass\n",
    "    \n",
    "    def encode(self) -> list:\n",
    "        \"\"\"\n",
    "        \"\"\"\n",
    "        pass\n",
    "    \n",
    "    def fitness(self) -> int:\n",
    "        \"\"\"\n",
    "        \"\"\"\n",
    "        pass\n",
    "    \n",
    "    def select(self) -> None:\n",
    "        \"\"\"\n",
    "        \"\"\"\n",
    "        pass\n",
    "    \n",
    "    def mate(self) -> None:\n",
    "        \"\"\"\n",
    "        \"\"\"\n",
    "        pass\n",
    "    \n",
    "    def mutation(self) -> None:\n",
    "        pass\n",
    "    "
   ]
  },
  {
   "cell_type": "code",
   "execution_count": null,
   "id": "67d6c4aa",
   "metadata": {},
   "outputs": [],
   "source": []
  }
 ],
 "metadata": {
  "kernelspec": {
   "display_name": "Python 3",
   "language": "python",
   "name": "python3"
  },
  "language_info": {
   "codemirror_mode": {
    "name": "ipython",
    "version": 3
   },
   "file_extension": ".py",
   "mimetype": "text/x-python",
   "name": "python",
   "nbconvert_exporter": "python",
   "pygments_lexer": "ipython3",
   "version": "3.8.8"
  },
  "latex_envs": {
   "LaTeX_envs_menu_present": true,
   "autoclose": false,
   "autocomplete": true,
   "bibliofile": "biblio.bib",
   "cite_by": "apalike",
   "current_citInitial": 1,
   "eqLabelWithNumbers": true,
   "eqNumInitial": 1,
   "hotkeys": {
    "equation": "Ctrl-E",
    "itemize": "Ctrl-I"
   },
   "labels_anchors": false,
   "latex_user_defs": false,
   "report_style_numbering": false,
   "user_envs_cfg": false
  },
  "toc": {
   "base_numbering": 1,
   "nav_menu": {},
   "number_sections": false,
   "sideBar": true,
   "skip_h1_title": false,
   "title_cell": "Table of Contents",
   "title_sidebar": "Contents",
   "toc_cell": true,
   "toc_position": {},
   "toc_section_display": true,
   "toc_window_display": false
  }
 },
 "nbformat": 4,
 "nbformat_minor": 5
}
